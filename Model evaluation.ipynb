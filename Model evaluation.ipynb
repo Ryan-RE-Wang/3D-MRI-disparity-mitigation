{
 "cells": [
  {
   "cell_type": "code",
   "execution_count": 1,
   "id": "healthy-drawing",
   "metadata": {},
   "outputs": [
    {
     "name": "stdout",
     "output_type": "stream",
     "text": [
      "Mon Jan  9 10:34:03 2023       \r\n",
      "+-----------------------------------------------------------------------------+\r\n",
      "| NVIDIA-SMI 460.67       Driver Version: 460.67       CUDA Version: 11.2     |\r\n",
      "|-------------------------------+----------------------+----------------------+\r\n",
      "| GPU  Name        Persistence-M| Bus-Id        Disp.A | Volatile Uncorr. ECC |\r\n",
      "| Fan  Temp  Perf  Pwr:Usage/Cap|         Memory-Usage | GPU-Util  Compute M. |\r\n",
      "|                               |                      |               MIG M. |\r\n",
      "|===============================+======================+======================|\r\n",
      "|   0  GeForce RTX 3090    Off  | 00000000:65:00.0  On |                  N/A |\r\n",
      "| 68%   54C    P8    53W / 370W |   3878MiB / 24265MiB |      0%      Default |\r\n",
      "|                               |                      |                  N/A |\r\n",
      "+-------------------------------+----------------------+----------------------+\r\n",
      "|   1  GeForce RTX 3090    Off  | 00000000:B3:00.0 Off |                  N/A |\r\n",
      "| 68%   57C    P2   135W / 370W |  18229MiB / 24268MiB |      0%      Default |\r\n",
      "|                               |                      |                  N/A |\r\n",
      "+-------------------------------+----------------------+----------------------+\r\n",
      "                                                                               \r\n",
      "+-----------------------------------------------------------------------------+\r\n",
      "| Processes:                                                                  |\r\n",
      "|  GPU   GI   CI        PID   Type   Process name                  GPU Memory |\r\n",
      "|        ID   ID                                                   Usage      |\r\n",
      "|=============================================================================|\r\n",
      "|    0   N/A  N/A      1546      C   /opt/tljh/user/bin/python         413MiB |\r\n",
      "|    0   N/A  N/A      2488      C   /opt/tljh/user/bin/python         413MiB |\r\n",
      "|    0   N/A  N/A     15655      C   /opt/tljh/user/bin/python        2997MiB |\r\n",
      "|    0   N/A  N/A     16032      G   /usr/lib/xorg/Xorg                 41MiB |\r\n",
      "|    1   N/A  N/A      2488      C   /opt/tljh/user/bin/python         413MiB |\r\n",
      "|    1   N/A  N/A     16032      G   /usr/lib/xorg/Xorg                  4MiB |\r\n",
      "|    1   N/A  N/A     32041      C   /opt/tljh/user/bin/python        8245MiB |\r\n",
      "|    1   N/A  N/A     32214      C   python                           9557MiB |\r\n",
      "+-----------------------------------------------------------------------------+\r\n"
     ]
    }
   ],
   "source": [
    "!nvidia-smi"
   ]
  },
  {
   "cell_type": "code",
   "execution_count": 2,
   "id": "derived-performance",
   "metadata": {},
   "outputs": [
    {
     "name": "stdout",
     "output_type": "stream",
     "text": [
      "2.5.0\n"
     ]
    }
   ],
   "source": [
    "import os\n",
    "os.environ['TF_CPP_MIN_LOG_LEVEL'] = '3' \n",
    "# os.environ[\"CUDA_VISIBLE_DEVICES\"] = \"0\"\n",
    "\n",
    "import tensorflow as tf\n",
    "import pickle\n",
    "import pandas as pd\n",
    "import numpy as np\n",
    "import warnings\n",
    "from models import *\n",
    "from evaluation import *\n",
    "from load_data import *\n",
    "from resnet3d import *\n",
    "\n",
    "print(tf.__version__)\n",
    "warnings.filterwarnings(\"ignore\")\n",
    "\n",
    "gpus = tf.config.list_physical_devices(device_type='GPU')\n",
    "tf.config.set_visible_devices(devices=gpus[1], device_type='GPU')\n",
    "tf.config.experimental.set_memory_growth(gpus[1], True)"
   ]
  },
  {
   "cell_type": "code",
   "execution_count": 3,
   "id": "parental-savannah",
   "metadata": {},
   "outputs": [],
   "source": [
    "seed = 2021\n",
    "os.environ['PYTHONHASHSEED']=str(seed)\n",
    "tf.random.set_seed(seed)\n",
    "np.random.seed(seed)"
   ]
  },
  {
   "cell_type": "markdown",
   "id": "centered-address",
   "metadata": {},
   "source": [
    "# Evaluate the predictions"
   ]
  },
  {
   "cell_type": "markdown",
   "id": "general-village",
   "metadata": {},
   "source": [
    "## 3D MRI"
   ]
  },
  {
   "cell_type": "code",
   "execution_count": 20,
   "id": "authorized-velvet",
   "metadata": {},
   "outputs": [],
   "source": [
    "df = pd.read_csv('data_new_balanced.csv')\n",
    "data_path = '../../../mnt/usb/kuopc/ADNI_B1/MPR__GradWarp__B1_Correction_crop/'\n",
    "\n",
    "df = df.loc[df['Group'] != 'MCI']\n",
    "df = df.loc[df['Split'] == 'test']\n",
    "\n",
    "df['Group'] = df['Group'].replace(['CN', 'AD'], [0, 1])\n",
    "df['Sex'] = df['Sex'].replace(['F', 'M'], [0, 1])\n",
    "df['Age'] = np.where(df['Age'] <= 75, 0, 1)\n",
    "df['Race'] = np.where(df['Race'] < 1, 0, 1)"
   ]
  },
  {
   "cell_type": "code",
   "execution_count": 7,
   "id": "another-graham",
   "metadata": {},
   "outputs": [
    {
     "name": "stdout",
     "output_type": "stream",
     "text": [
      "Sample auc mean: 0.687\n",
      "Samole auc std: 0.033\n",
      "Sample auc CI: 0.074\n",
      "Confidence interval for the score: [0.612 - 0.761]\n",
      "Sample auc mean: 0.693\n",
      "Samole auc std: 0.033\n",
      "Sample auc CI: 0.076\n",
      "Confidence interval for the score: [0.618 - 0.769]\n",
      "Sample auc mean: 0.583\n",
      "Samole auc std: 0.037\n",
      "Sample auc CI: 0.084\n",
      "Confidence interval for the score: [0.499 - 0.667]\n",
      "Sample auc mean: 0.691\n",
      "Samole auc std: 0.033\n",
      "Sample auc CI: 0.075\n",
      "Confidence interval for the score: [0.616 - 0.766]\n"
     ]
    }
   ],
   "source": [
    "model_name = '3D_CNN_AD_CN_age'\n",
    "prediction_name = 'predictions/{i}_on_original'.format(i=model_name)\n",
    "with open(prediction_name, \"rb\") as fp:\n",
    "    y_preds = pickle.load(fp)\n",
    "demo_test(y_preds, df['Age'].values)\n",
    "\n",
    "model_name = '3D_CNN_AD_CN_age'\n",
    "prediction_name = 'predictions/{i}_on_aug'.format(i=model_name)\n",
    "with open(prediction_name, \"rb\") as fp:\n",
    "    y_preds = pickle.load(fp)\n",
    "demo_test(y_preds, df['Age'].values)\n",
    "\n",
    "model_name = '3D_CNN_AD_CN_age_proposed'\n",
    "prediction_name = 'predictions/{i}_on_original'.format(i=model_name)\n",
    "with open(prediction_name, \"rb\") as fp:\n",
    "    y_preds = pickle.load(fp)\n",
    "demo_test(y_preds, df['Age'].values)\n",
    "\n",
    "model_name = '3D_CNN_AD_CN_age_proposed'\n",
    "prediction_name = 'predictions/{i}_on_aug'.format(i=model_name)\n",
    "with open(prediction_name, \"rb\") as fp:\n",
    "    y_preds = pickle.load(fp)\n",
    "demo_test(y_preds, df['Age'].values)"
   ]
  },
  {
   "cell_type": "code",
   "execution_count": 10,
   "id": "systematic-carol",
   "metadata": {},
   "outputs": [],
   "source": [
    "def compute_result(y_preds, y_test, best_thresh, demo, result_name, group):\n",
    "    group_type = {'race': [0, 1], 'gender': [0, 1], 'age': [0, 1]}\n",
    "    dfs = []\n",
    "\n",
    "    for j in group_type[group]:\n",
    "\n",
    "        idx = demo == j\n",
    "\n",
    "        dfs.append(test(y_preds[idx], y_test[idx], best_thresh))\n",
    "\n",
    "    with open(\"results/{i}_{group}_results\".format(i=result_name, group=group), \"wb\") as fp:\n",
    "        pickle.dump(dfs, fp)"
   ]
  },
  {
   "cell_type": "code",
   "execution_count": 21,
   "id": "satisfactory-hundred",
   "metadata": {},
   "outputs": [],
   "source": [
    "model_name = '3D_CNN_AD_CN_balanced_proposed'\n",
    "result_name = '{i}_on_aug'.format(i=model_name)\n",
    "prediction_name = 'predictions/{i}_on_aug'.format(i=model_name)\n",
    "best_thresh = np.loadtxt('thresh/{i}_thresh.txt'.format(i=model_name))\n",
    "\n",
    "with open(prediction_name, \"rb\") as fp:\n",
    "    y_preds = pickle.load(fp)\n",
    "\n",
    "compute_result(y_preds, df['Group'].values, best_thresh, df['Race'].values, result_name, 'race')\n",
    "compute_result(y_preds, df['Group'].values, best_thresh, df['Sex'].values, result_name, 'gender')\n",
    "compute_result(y_preds, df['Group'].values, best_thresh, df['Age'].values, result_name, 'age')"
   ]
  }
 ],
 "metadata": {
  "kernelspec": {
   "display_name": "Python 3",
   "language": "python",
   "name": "python3"
  },
  "language_info": {
   "codemirror_mode": {
    "name": "ipython",
    "version": 3
   },
   "file_extension": ".py",
   "mimetype": "text/x-python",
   "name": "python",
   "nbconvert_exporter": "python",
   "pygments_lexer": "ipython3",
   "version": "3.7.10"
  }
 },
 "nbformat": 4,
 "nbformat_minor": 5
}
