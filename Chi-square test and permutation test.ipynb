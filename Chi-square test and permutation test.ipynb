{
 "cells": [
  {
   "cell_type": "markdown",
   "metadata": {
    "id": "9cjmaU9fTScD"
   },
   "source": [
    "# Set up"
   ]
  },
  {
   "cell_type": "code",
   "execution_count": 3,
   "metadata": {},
   "outputs": [],
   "source": [
    "import pandas as pd\n",
    "import numpy as np\n",
    "import os\n",
    "import tensorflow as tf\n",
    "\n",
    "seed = 2021\n",
    "os.environ['PYTHONHASHSEED']=str(seed)\n",
    "tf.random.set_seed(seed)\n",
    "np.random.seed(seed)"
   ]
  },
  {
   "cell_type": "markdown",
   "metadata": {},
   "source": [
    "# Chi Square test"
   ]
  },
  {
   "cell_type": "markdown",
   "metadata": {},
   "source": [
    "## 2D CXR"
   ]
  },
  {
   "cell_type": "code",
   "execution_count": 24,
   "metadata": {},
   "outputs": [],
   "source": [
    "Labels_diseases = ['Atelectasis', 'Cardiomegaly', 'Consolidation', 'Edema', 'Enlarged Cardiomediastinum', 'Fracture', 'Lung Lesion', 'Lung Opacity', 'No Finding', 'Pleural Effusion', 'Pleural Other', 'Pneumonia', 'Pneumothorax', 'Support Devices']\n",
    "\n",
    "def get_data_chi2test(diseases, types):\n",
    "    if (types == 'race'):\n",
    "        df = [[0, 0], [0, 0], [0, 0]]\n",
    "    elif (types == 'gender'):\n",
    "        df = [[0, 0], [0, 0]] \n",
    "    elif (types == 'age'):\n",
    "        df = [[0, 0], [0, 0], [0, 0], [0, 0]]\n",
    "    else:\n",
    "        print('No match category')\n",
    "        return\n",
    "\n",
    "    filename = ['data/mimic_train.tfrecords', 'data/mimic_test.tfrecords', 'data/mimic_val.tfrecords']    \n",
    "        \n",
    "    raw_dataset = tf.data.TFRecordDataset(filename)\n",
    "    for raw_record in raw_dataset:\n",
    "\n",
    "        example = tf.train.Example()\n",
    "        example.ParseFromString(raw_record.numpy())\n",
    "        \n",
    "        if (example.features.feature[diseases].float_list.value[0] == 1):\n",
    "            label = 1\n",
    "        else:\n",
    "            label = 0\n",
    "            \n",
    "        if (types == 'race'):\n",
    "            race = example.features.feature['race'].int64_list.value[0]\n",
    "            if (race == 4):\n",
    "                race = 2\n",
    "            df[race][label] += 1  \n",
    "        elif (types == 'gender'):\n",
    "            gender = example.features.feature['gender'].int64_list.value[0]\n",
    "            df[gender][label] += 1\n",
    "        else:\n",
    "            age = example.features.feature['age'].int64_list.value[0]\n",
    "            if (age > 1):\n",
    "                age -= 1\n",
    "            df[age][label] += 1\n",
    "             \n",
    "    return np.array(df)"
   ]
  },
  {
   "cell_type": "code",
   "execution_count": 25,
   "metadata": {},
   "outputs": [
    {
     "name": "stdout",
     "output_type": "stream",
     "text": [
      "Atelectasis 2.5583051512777526e-263\n",
      "Cardiomegaly 0.0\n",
      "Consolidation 2.9464201592891743e-10\n",
      "Edema 0.0\n",
      "Enlarged Cardiomediastinum 4.3260699221795475e-15\n",
      "Fracture 1.1411297123964457e-08\n",
      "Lung Lesion 2.7077667060124254e-42\n",
      "Lung Opacity 6.348689047355226e-212\n",
      "No Finding 0.0\n",
      "Pleural Effusion 0.0\n",
      "Pleural Other 5.218186209505272e-29\n",
      "Pneumonia 4.66740548178377e-15\n",
      "Pneumothorax 7.64217712696231e-23\n",
      "Support Devices 8.819563455167418e-101\n"
     ]
    }
   ],
   "source": [
    "from scipy.stats import chi2_contingency, chisquare\n",
    "\n",
    "for i in Labels_diseases:\n",
    "    obs = get_data_chi2test(i, 'age')\n",
    "    \n",
    "    chi2, p, dof, ex = chi2_contingency(obs)\n",
    "\n",
    "    (chi2, p) == chisquare(obs.ravel(), f_exp=ex.ravel(),\n",
    "                                 ddof=obs.size - 1 - dof)\n",
    "    print(i, p)"
   ]
  },
  {
   "cell_type": "code",
   "execution_count": 26,
   "metadata": {},
   "outputs": [
    {
     "name": "stdout",
     "output_type": "stream",
     "text": [
      "Atelectasis 8.003293009803891e-45\n",
      "Cardiomegaly 0.09994736840772339\n",
      "Consolidation 1.06917442490985e-12\n",
      "Edema 0.10105632500250634\n",
      "Enlarged Cardiomediastinum 4.003947469600505e-17\n",
      "Fracture 1.4002872281975913e-07\n",
      "Lung Lesion 0.1487007220372222\n",
      "Lung Opacity 1.5309155635081552e-25\n",
      "No Finding 2.5298607621615374e-74\n",
      "Pleural Effusion 3.2389990295705443e-10\n",
      "Pleural Other 3.7707883402283225e-08\n",
      "Pneumonia 1.837081297188115e-09\n",
      "Pneumothorax 1.0920109596749277e-35\n",
      "Support Devices 3.9417081497813286e-170\n"
     ]
    }
   ],
   "source": [
    "from scipy.stats import chi2_contingency, chisquare\n",
    "\n",
    "for i in Labels_diseases:\n",
    "    obs = get_data_chi2test(i, 'gender')\n",
    "\n",
    "    chi2, p, dof, ex = chi2_contingency(obs)\n",
    "\n",
    "    (chi2, p) == chisquare(obs.ravel(), f_exp=ex.ravel(),\n",
    "                                 ddof=obs.size - 1 - dof)\n",
    "    print(i, p)"
   ]
  },
  {
   "cell_type": "code",
   "execution_count": 27,
   "metadata": {},
   "outputs": [
    {
     "name": "stdout",
     "output_type": "stream",
     "text": [
      "Atelectasis 2.2226446123460134e-147\n",
      "Cardiomegaly 1.9176844462076505e-11\n",
      "Consolidation 2.1819931627330364e-17\n",
      "Edema 4.057669707999058e-28\n",
      "Enlarged Cardiomediastinum 3.469475039111988e-17\n",
      "Fracture 3.887169031148246e-58\n",
      "Lung Lesion 8.554933747185626e-20\n",
      "Lung Opacity 4.263325889526771e-46\n",
      "No Finding 6.270165882999732e-273\n",
      "Pleural Effusion 0.0\n",
      "Pleural Other 6.747441742379811e-13\n",
      "Pneumonia 7.557212094205977e-05\n",
      "Pneumothorax 7.36296765708828e-93\n",
      "Support Devices 9.579000910715983e-254\n"
     ]
    }
   ],
   "source": [
    "from scipy.stats import chi2_contingency, chisquare\n",
    "\n",
    "for i in Labels_diseases:\n",
    "    obs = get_data_chi2test(i, 'race')\n",
    "\n",
    "    chi2, p, dof, ex = chi2_contingency(obs)\n",
    "\n",
    "    (chi2, p) == chisquare(obs.ravel(), f_exp=ex.ravel(),\n",
    "                                 ddof=obs.size - 1 - dof)\n",
    "    print(i, p)"
   ]
  },
  {
   "cell_type": "markdown",
   "metadata": {},
   "source": [
    "## 3D MRI"
   ]
  },
  {
   "cell_type": "code",
   "execution_count": 7,
   "metadata": {},
   "outputs": [],
   "source": [
    "df = pd.read_csv('data_new.csv')\n",
    "data_path = '../../../mnt/usb/kuopc/ADNI_B1/MPR__GradWarp__B1_Correction_crop/'\n",
    "\n",
    "df = df.loc[df['Group'] != 'MCI']\n",
    "\n",
    "df['Group'] = df['Group'].replace(['CN', 'AD'], [0, 1])\n",
    "df['Sex'] = df['Sex'].replace(['F', 'M'], [0, 1])\n",
    "df['Age'] = np.where(df['Age'] <= 75, 0, 1)\n",
    "df['Race'] = np.where(df['Race'] < 1, 0, 1)"
   ]
  },
  {
   "cell_type": "code",
   "execution_count": 22,
   "metadata": {},
   "outputs": [
    {
     "name": "stdout",
     "output_type": "stream",
     "text": [
      "0.4173464871914033\n"
     ]
    }
   ],
   "source": [
    "from scipy.stats import chi2_contingency, chisquare\n",
    "\n",
    "obs = np.array([df.loc[df['Group'] == 0, 'Sex'].value_counts().values, df.loc[df['Group'] == 1, 'Sex'].value_counts().values])\n",
    "\n",
    "chi2, p, dof, ex = chi2_contingency(obs)\n",
    "\n",
    "(chi2, p) == chisquare(obs.ravel(), f_exp=ex.ravel(),\n",
    "                             ddof=obs.size - 1 - dof)\n",
    "print(p)"
   ]
  },
  {
   "cell_type": "code",
   "execution_count": 23,
   "metadata": {},
   "outputs": [
    {
     "name": "stdout",
     "output_type": "stream",
     "text": [
      "0.06248543701502015\n"
     ]
    }
   ],
   "source": [
    "from scipy.stats import chi2_contingency, chisquare\n",
    "\n",
    "obs = np.array([df.loc[df['Group'] == 0, 'Age'].value_counts().values, df.loc[df['Group'] == 1, 'Age'].value_counts().values])\n",
    "\n",
    "chi2, p, dof, ex = chi2_contingency(obs)\n",
    "\n",
    "(chi2, p) == chisquare(obs.ravel(), f_exp=ex.ravel(),\n",
    "                             ddof=obs.size - 1 - dof)\n",
    "print(p)"
   ]
  },
  {
   "cell_type": "markdown",
   "metadata": {},
   "source": [
    "# Permutation test"
   ]
  },
  {
   "cell_type": "markdown",
   "metadata": {},
   "source": [
    "## 3D MRI"
   ]
  },
  {
   "cell_type": "code",
   "execution_count": 29,
   "metadata": {},
   "outputs": [],
   "source": [
    "df = pd.read_csv('data_new.csv')\n",
    "data_path = '../../../mnt/usb/kuopc/ADNI_B1/MPR__GradWarp__B1_Correction_crop/'\n",
    "\n",
    "df = df.loc[df['Group'] != 'MCI']\n",
    "\n",
    "df['Group'] = df['Group'].replace(['CN', 'AD'], [0, 1])\n",
    "df['Sex'] = df['Sex'].replace(['F', 'M'], [0, 1])\n",
    "df['Age'] = np.where(df['Age'] <= 75, 0, 1)\n",
    "df['Race'] = np.where(df['Race'] < 1, 0, 1)"
   ]
  },
  {
   "cell_type": "code",
   "execution_count": 36,
   "metadata": {},
   "outputs": [
    {
     "name": "stdout",
     "output_type": "stream",
     "text": [
      "              precision    recall  f1-score   support\n",
      "\n",
      "           0       0.54      0.45      0.49       139\n",
      "           1       0.40      0.50      0.45       104\n",
      "\n",
      "    accuracy                           0.47       243\n",
      "   macro avg       0.47      0.47      0.47       243\n",
      "weighted avg       0.48      0.47      0.47       243\n",
      "\n"
     ]
    }
   ],
   "source": [
    "from sklearn.metrics import classification_report\n",
    "\n",
    "df_train = df.loc[df['Split'] == 'train']\n",
    "\n",
    "df_test = df.loc[df['Split'] == 'test']\n",
    "\n",
    "preds = df_test['Sex'].values\n",
    "\n",
    "result_sex = classification_report(df_test['Group'].values, preds, output_dict=True)\n",
    "\n",
    "print(classification_report(df_test['Group'].values, preds))\n"
   ]
  },
  {
   "cell_type": "code",
   "execution_count": 37,
   "metadata": {},
   "outputs": [
    {
     "name": "stdout",
     "output_type": "stream",
     "text": [
      "              precision    recall  f1-score   support\n",
      "\n",
      "           0       0.56      0.47      0.52       139\n",
      "           1       0.42      0.51      0.46       104\n",
      "\n",
      "    accuracy                           0.49       243\n",
      "   macro avg       0.49      0.49      0.49       243\n",
      "weighted avg       0.50      0.49      0.49       243\n",
      "\n"
     ]
    }
   ],
   "source": [
    "from sklearn.linear_model import LogisticRegression\n",
    "from sklearn.multiclass import OneVsRestClassifier\n",
    "\n",
    "df_train = df.loc[df['Split'] == 'train']\n",
    "\n",
    "df_test = df.loc[df['Split'] == 'test']\n",
    "\n",
    "preds = df_test['Age'].values\n",
    "\n",
    "result_age = classification_report(df_test['Group'].values, preds, output_dict=True)\n",
    "\n",
    "print(classification_report(df_test['Group'].values, preds))"
   ]
  },
  {
   "cell_type": "code",
   "execution_count": 57,
   "metadata": {},
   "outputs": [],
   "source": [
    "from sklearn.metrics import f1_score\n",
    "np.random.seed(2021)\n",
    "\n",
    "a = []\n",
    "for i in range(100000):\n",
    "    guess = np.copy(df_test['Group'].values)\n",
    "    np.random.shuffle(guess)\n",
    "\n",
    "    a.append(classification_report(df_test['Group'].values, guess, output_dict=True))\n",
    "    \n",
    "    "
   ]
  },
  {
   "cell_type": "code",
   "execution_count": 58,
   "metadata": {},
   "outputs": [
    {
     "name": "stdout",
     "output_type": "stream",
     "text": [
      "0\n"
     ]
    },
    {
     "data": {
      "image/png": "[encoded data removed]",
      "text/plain": [
       "<Figure size 432x288 with 1 Axes>"
      ]
     },
     "metadata": {
      "needs_background": "light"
     },
     "output_type": "display_data"
    },
    {
     "name": "stdout",
     "output_type": "stream",
     "text": [
      "1\n"
     ]
    },
    {
     "data": {
      "image/png": "[encoded data removed]",
      "text/plain": [
       "<Figure size 432x288 with 1 Axes>"
      ]
     },
     "metadata": {
      "needs_background": "light"
     },
     "output_type": "display_data"
    },
    {
     "name": "stdout",
     "output_type": "stream",
     "text": [
      "macro avg\n"
     ]
    },
    {
     "data": {
      "image/png": "[encoded data removed]",
      "text/plain": [
       "<Figure size 432x288 with 1 Axes>"
      ]
     },
     "metadata": {
      "needs_background": "light"
     },
     "output_type": "display_data"
    },
    {
     "name": "stdout",
     "output_type": "stream",
     "text": [
      "weighted avg\n"
     ]
    },
    {
     "data": {
      "image/png": "[encoded data removed]",
      "text/plain": [
       "<Figure size 432x288 with 1 Axes>"
      ]
     },
     "metadata": {
      "needs_background": "light"
     },
     "output_type": "display_data"
    }
   ],
   "source": [
    "import matplotlib.pyplot as plt\n",
    "\n",
    "for i in list(a[0].keys()):\n",
    "    if (i == 'accuracy'):\n",
    "        continue\n",
    "    print(i)\n",
    "    b = list(map(lambda x: x[i]['f1-score'], a))\n",
    "    c = plt.hist(b, bins=100, color='limegreen')\n",
    "    plt.axvline(np.percentile(b, 95), color='r', linestyle='dashed', linewidth=1)\n",
    "    plt.axvline(result_age['weighted avg']['f1-score'], color='b', linestyle='dashed', linewidth=1)\n",
    "    plt.axvline(result_sex['weighted avg']['f1-score'], color='y', linestyle='dashed', linewidth=1)\n",
    "    plt.show()"
   ]
  }
 ],
 "metadata": {
  "accelerator": "GPU",
  "colab": {
   "collapsed_sections": [],
   "machine_shape": "hm",
   "name": "AE-filter-CXR.ipynb",
   "provenance": [
    {
     "file_id": "1M7eid7ZzEJ1ohc3Adl4Ly59dqjL93YW5",
     "timestamp": 1617011793082
    },
    {
     "file_id": "https://github.com/timsainb/tensorflow2-generative-models/blob/master/6.0-VAE-GAN-fashion-mnist.ipynb",
     "timestamp": 1612080432932
    }
   ]
  },
  "kernelspec": {
   "display_name": "Python 3",
   "language": "python",
   "name": "python3"
  },
  "language_info": {
   "codemirror_mode": {
    "name": "ipython",
    "version": 3
   },
   "file_extension": ".py",
   "mimetype": "text/x-python",
   "name": "python",
   "nbconvert_exporter": "python",
   "pygments_lexer": "ipython3",
   "version": "3.7.10"
  }
 },
 "nbformat": 4,
 "nbformat_minor": 1
}
