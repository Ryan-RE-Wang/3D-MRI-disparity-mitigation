{
 "cells": [
  {
   "cell_type": "code",
   "execution_count": 2,
   "metadata": {},
   "outputs": [],
   "source": [
    "import warnings\n",
    "warnings.filterwarnings(\"ignore\")\n",
    "\n",
    "import numpy as np\n",
    "import matplotlib.pyplot as plt\n",
    "import pandas as pd\n",
    "import random\n",
    "import os\n",
    "import torch\n",
    "from PIL import Image  \n",
    "from skimage.transform import resize\n",
    "from transformation_3d import *\n"
   ]
  },
  {
   "cell_type": "code",
   "execution_count": 3,
   "metadata": {},
   "outputs": [],
   "source": [
    "dataframe = pd.read_csv(\"../ADNI/B1_correction_new.csv\") # 記錄每張MRI影像的metadata\n",
    "img_data = os.listdir(\"../../../mnt/usb/kuopc/ADNI_B1/MPR__GradWarp__B1_Correction/\")# 這邊的img是已經將mask與MRI做結合的圖片\n",
    "img_data_mask = os.listdir(\"../../../mnt/usb/kuopc/ADNI_B1/MPR__GradWarp__B1_Correction__Mask/\")# 這邊的img是已經將mask與MRI做結合的圖片\n",
    "\n"
   ]
  },
  {
   "cell_type": "code",
   "execution_count": null,
   "metadata": {},
   "outputs": [],
   "source": [
    "def find_mask_idx(ID):\n",
    "    for i, j in enumerate(img_data_mask):\n",
    "        img_ID = j[j.rindex('_S')+1:j.rindex('_I')]\n",
    "        if (img_ID == ID):\n",
    "            return i"
   ]
  },
  {
   "cell_type": "code",
   "execution_count": null,
   "metadata": {},
   "outputs": [],
   "source": [
    "def transformation(img, rand):\n",
    "    \n",
    "    img_np = np.copy(img)\n",
    "    \n",
    "    if (rand == 0):\n",
    "        img_np = shear(img_np)\n",
    "    elif (rand == 1):\n",
    "        img_np = rotation(img_np)\n",
    "    elif (rand == 2):\n",
    "        img_np = fish(img_np, 0.4)\n",
    "    else:\n",
    "        img_np = scale(img_np)\n",
    "    \n",
    "    return img_np"
   ]
  },
  {
   "cell_type": "code",
   "execution_count": null,
   "metadata": {},
   "outputs": [],
   "source": [
    "count = 0\n",
    "\n",
    "np.random.seed(2021)\n",
    "\n",
    "for i, data in enumerate(img_data):\n",
    "        \n",
    "    img_filename = data\n",
    "    img_ID = img_filename[img_filename.rindex('_S')+1:img_filename.rindex('_I')]\n",
    "    \n",
    "    mask_idx = find_mask_idx(img_ID)\n",
    "    \n",
    "    mask_filename = img_data_mask[mask_idx]\n",
    "    img_ID_mask = mask_filename[mask_filename.rindex('_S')+1:mask_filename.rindex('_I')]\n",
    "    \n",
    "    sitk_img = sitk.ReadImage('../../../mnt/usb/kuopc/ADNI_B1/MPR__GradWarp__B1_Correction/' + img_filename)\n",
    "    img = sitk.GetArrayFromImage(sitk_img)\n",
    "\n",
    "    sitk_mask = sitk.ReadImage('../../../mnt/usb/kuopc/ADNI_B1/MPR__GradWarp__B1_Correction__Mask/' + mask_filename)\n",
    "    resampled_mask_img = sitk.GetArrayFromImage(sitk.Resample(sitk_mask, sitk_img, sitk.Transform(), sitk.sitkNearestNeighbor, 0, sitk_mask.GetPixelID()))\n",
    "            \n",
    "    img = mask_img(img, resampled_mask_img)\n",
    "    \n",
    "    img = np.flip(np.moveaxis(img, [0, 1, 2], [2, 1, 0]), axis=1)\n",
    "\n",
    "    image = crop(img)\n",
    "\n",
    "    image = torch.from_numpy(image)\n",
    "    \n",
    "    image_crop = resize(image, (256, 256, 256))\n",
    "    \n",
    "    path = \"../../../mnt/usb/kuopc/ADNI_B1/MPR__GradWarp__B1_Correction_crop/\" + img_filename  \n",
    "    \n",
    "    image_crop_saved = nib.Nifti1Image(image_crop, np.eye(4))\n",
    "    nib.save(image_crop_saved, path) #save new image     "
   ]
  },
  {
   "cell_type": "code",
   "execution_count": null,
   "metadata": {},
   "outputs": [],
   "source": [
    "np.random.seed(2021)\n",
    "\n",
    "img_data = os.listdir(\"../../../mnt/usb/kuopc/ADNI_B1/MPR__GradWarp__B1_Correction_crop/\")# 這邊的img是已經將mask與MRI做結合的圖片\n",
    "\n",
    "for i, data in enumerate(img_data):\n",
    "        \n",
    "    img_filename = data\n",
    "    \n",
    "    image_crop = load_img(\"../../../mnt/usb/kuopc/ADNI_B1/MPR__GradWarp__B1_Correction_crop/\" + img_filename) \n",
    "    \n",
    "    rand = np.random.randint(0, 4, 1)\n",
    "    \n",
    "    image_aug = transformation(image_crop, rand)\n",
    "    \n",
    "    path = \"../../../mnt/usb/kuopc/ADNI_B1/MPR__GradWarp__B1_Correction_aug/\" + img_filename \n",
    "    \n",
    "    image_aug = resize(image_aug, (256, 256, 256))\n",
    "\n",
    "    image_aug_saved = nib.Nifti1Image(image_aug, np.eye(4))\n",
    "    nib.save(image_aug_saved, path) #save new image  "
   ]
  },
  {
   "cell_type": "code",
   "execution_count": null,
   "metadata": {},
   "outputs": [],
   "source": [
    "for i in range(image_aug.shape[0]):\n",
    "    plt.subplot(16, 16, i+1)\n",
    "    fig = plt.imshow(img_np[i, :, :])\n",
    "\n",
    "    fig.axes.get_xaxis().set_visible(False)\n",
    "    fig.axes.get_yaxis().set_visible(False)\n",
    "\n",
    "    plt.gcf().set_size_inches(15,15)\n",
    "plt.show()"
   ]
  },
  {
   "cell_type": "code",
   "execution_count": 12,
   "metadata": {},
   "outputs": [],
   "source": [
    "from sklearn.model_selection import train_test_split\n",
    "\n",
    "train_list, test_list = train_test_split(np.unique(dataframe['Subject'].values), test_size=0.2, random_state=2021)\n",
    "train_list, test_list = train_test_split(train_list, test_size=0.2, random_state=2021)"
   ]
  },
  {
   "cell_type": "code",
   "execution_count": null,
   "metadata": {},
   "outputs": [],
   "source": [
    "df = pd.DataFrame(columns=['ImageID', 'SubjectID', 'Group', 'Sex', 'Age', 'Race', 'Split', 'Filename'])\n",
    "count = 0\n",
    "for i in img_data:\n",
    "    subject_ID = i[5:15]\n",
    "    a = i[:-4]\n",
    "    img_ID = a[a.rindex('_')+1:]\n",
    "    \n",
    "    temp_df = dataframe.loc[dataframe['Subject'] == subject_ID]\n",
    "    \n",
    "    if (temp_df.empty):\n",
    "        continue\n",
    "    else:\n",
    "        race = get_race(subject_ID)\n",
    "        img_df = temp_df.loc[temp_df['Image Data ID']==img_ID]\n",
    "        if (subject_ID in train_list):\n",
    "            split = 'train'\n",
    "        elif (subject_ID in test_list):\n",
    "            split = 'test'\n",
    "        elif (subject_ID in val_list):\n",
    "            split = 'val'\n",
    "        else:\n",
    "            continue\n",
    "            \n",
    "        if (img_df.empty):\n",
    "            group = temp_df['Group'].values[0]\n",
    "            sex = temp_df['Sex'].values[0]\n",
    "            age = np.mean(temp_df['Age'].values)\n",
    "        else:\n",
    "            group = img_df['Group'].values[0]\n",
    "            sex = img_df['Sex'].values[0]\n",
    "            age = img_df['Age'].values[0]\n",
    "            \n",
    "        filename = \"../../../mnt/usb/kuopc/ADNI_B1/MPR__GradWarp__B1_Correction_crop/\" + i\n",
    "        single_df = pd.DataFrame({'ImageID':img_ID, 'SubjectID':subject_ID, 'Group':group, 'Sex':sex, 'Age':age, 'Split':split, 'Filename':filename}, index=[count])\n",
    "        df = df.append(single_df)\n",
    "        count += 1\n",
    "        \n",
    "df.to_csv('data_new.csv')"
   ]
  },
  {
   "cell_type": "code",
   "execution_count": null,
   "metadata": {},
   "outputs": [],
   "source": [
    "g_ = df.groupby(['Age', 'Sex'])\n",
    "df_ = g_.apply(lambda x: x.sample(g_.size().min())).reset_index(level=[0, 1, 2], drop=True)\n",
    "\n",
    "df_.to_csv('data_balanced.csv')"
   ]
  }
 ],
 "metadata": {
  "interpreter": {
   "hash": "fe5a9d7ed15783e8a7a59b50df3e0c454a9bbc278a1b7ec2a6ccdea2d04cfc00"
  },
  "kernelspec": {
   "display_name": "Python 3",
   "language": "python",
   "name": "python3"
  },
  "language_info": {
   "codemirror_mode": {
    "name": "ipython",
    "version": 3
   },
   "file_extension": ".py",
   "mimetype": "text/x-python",
   "name": "python",
   "nbconvert_exporter": "python",
   "pygments_lexer": "ipython3",
   "version": "3.7.10"
  }
 },
 "nbformat": 4,
 "nbformat_minor": 2
}
